{
 "cells": [
  {
   "cell_type": "code",
   "execution_count": null,
   "metadata": {},
   "outputs": [],
   "source": [
    "from IPython.display import Markdown\n",
    "import os\n",
    "\n",
    "dataset_name = os.environ.get(\"DATASET\")\n",
    "display(Markdown(f\"# Raport EDA: Zbiór **{dataset_name}**\"))"
   ]
  },
  {
   "cell_type": "markdown",
   "metadata": {},
   "source": [
    "*Author: Szymon Stano*\n",
    "\n",
    "The purpose of this report is to conduct a basic exploratory data analysis of the dataset, as a preliminary step for training a sentiment analysis model."
   ]
  },
  {
   "cell_type": "code",
   "execution_count": null,
   "metadata": {},
   "outputs": [],
   "source": [
    "import pandas as pd\n",
    "import seaborn as sns\n",
    "import matplotlib.pyplot as plt\n",
    "from ydata_profiling import ProfileReport\n",
    "import yaml\n",
    "\n",
    "sns.set_theme()"
   ]
  },
  {
   "cell_type": "code",
   "execution_count": null,
   "metadata": {},
   "outputs": [],
   "source": [
    "with open(\"/app/params.yaml\") as f:\n",
    "    params = yaml.safe_load(f)\n",
    "dataset_name = os.environ.get(\"DATASET\")\n",
    "\n",
    "\n",
    "input_path = f\"/app/data/train_test/{dataset_name}_train_data.csv\"\n",
    "df = pd.read_csv(input_path, engine=\"python\")\n",
    "\n",
    "dataset_cfg = params[\"datasets\"][dataset_name]\n",
    "class_column = dataset_cfg[\"label_column\"]"
   ]
  },
  {
   "cell_type": "markdown",
   "metadata": {},
   "source": [
    "## 1. Basic Data Analysis"
   ]
  },
  {
   "cell_type": "code",
   "execution_count": null,
   "metadata": {},
   "outputs": [],
   "source": [
    "df.shape"
   ]
  },
  {
   "cell_type": "code",
   "execution_count": null,
   "metadata": {},
   "outputs": [],
   "source": [
    "sns.countplot(x=df[class_column])\n",
    "plt.title(\"Rozkład klas\")"
   ]
  },
  {
   "cell_type": "markdown",
   "metadata": {},
   "source": [
    "Below are example samples from the dataset."
   ]
  },
  {
   "cell_type": "code",
   "execution_count": null,
   "metadata": {},
   "outputs": [],
   "source": [
    "pd.set_option(\"display.max_columns\", None)\n",
    "df.sample(3)"
   ]
  },
  {
   "cell_type": "markdown",
   "metadata": {},
   "source": [
    "As part of the analysis of feature types and their approximate distributions, a report was generated using the `ydata-profiling` library. It presents basic statistics for each feature in the data."
   ]
  },
  {
   "cell_type": "code",
   "execution_count": null,
   "metadata": {},
   "outputs": [],
   "source": [
    "profile = ProfileReport(df, title=\"Raport Profilowania\", explorative=True)\n",
    "profile.to_notebook_iframe()"
   ]
  },
  {
   "cell_type": "markdown",
   "metadata": {},
   "source": [
    "#### Missing Data Plot\n",
    "Below is a chart showing the proportion of missing values for each feature."
   ]
  },
  {
   "cell_type": "code",
   "execution_count": null,
   "metadata": {},
   "outputs": [],
   "source": [
    "plt.figure(figsize=(16, 2))\n",
    "plt.xticks(rotation=90)\n",
    "sns.barplot(df.isnull().sum() / len(df))\n",
    "plt.title(\"Proporcja brakujących danych\")"
   ]
  },
  {
   "cell_type": "markdown",
   "metadata": {},
   "source": [
    "#### Correlation Matrix"
   ]
  },
  {
   "cell_type": "code",
   "execution_count": null,
   "metadata": {},
   "outputs": [],
   "source": [
    "df_all_numeric = df.select_dtypes(include=[\"int64\", \"float64\"])\n",
    "correlation_matrix = df_all_numeric.corr()\n",
    "\n",
    "plt.figure(figsize=(14, 8))\n",
    "sns.heatmap(correlation_matrix, cmap=\"coolwarm\", fmt=\".2f\")\n",
    "\n",
    "plt.title(\"Correlation matrix\")\n",
    "plt.show()"
   ]
  }
 ],
 "metadata": {
  "kernelspec": {
   "display_name": "Python 3 (ipykernel)",
   "language": "python",
   "name": "python3"
  }
 },
 "nbformat": 4,
 "nbformat_minor": 2
}
